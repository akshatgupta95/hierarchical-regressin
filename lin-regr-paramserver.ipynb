{
 "cells": [
  {
   "cell_type": "markdown",
   "metadata": {},
   "source": [
    "### Hierarchical Architecture for Linear Regression Updates Gossip"
   ]
  },
  {
   "cell_type": "markdown",
   "metadata": {},
   "source": [
    "#### Create a Node Class"
   ]
  },
  {
   "cell_type": "markdown",
   "metadata": {},
   "source": [
    "Each Node (Machine) has a left child, right child, address, and a parent. <br>This architecture could later be extended to incorporate multiple children for each node (k-children)."
   ]
  },
  {
   "cell_type": "code",
   "execution_count": 137,
   "metadata": {
    "collapsed": false
   },
   "outputs": [],
   "source": [
    "class Node:\n",
    "    def __init__(self):\n",
    "        self.left = None\n",
    "        self.right = None\n",
    "        self.parent = None\n",
    "        self.addr = None"
   ]
  },
  {
   "cell_type": "markdown",
   "metadata": {},
   "source": [
    "#### Create the Hierarchy"
   ]
  },
  {
   "cell_type": "markdown",
   "metadata": {},
   "source": [
    "Since any Machine can be used as the main Master (root), we will use a divide-and-conquer approach to create the hierarchy."
   ]
  },
  {
   "cell_type": "code",
   "execution_count": 138,
   "metadata": {
    "collapsed": false
   },
   "outputs": [],
   "source": [
    "def build_tree(nodes):\n",
    "    if (len(nodes) == 0):\n",
    "        return None\n",
    "    mid = len(nodes)/2\n",
    "    root = Node()\n",
    "    root.addr = nodes[mid]\n",
    "    root.left = buildTree(nodes[:mid])\n",
    "    root.right = buildTree(nodes[mid+1:])\n",
    "    return root"
   ]
  },
  {
   "cell_type": "markdown",
   "metadata": {},
   "source": [
    "Setup the Parents for each Machine. This will increase efficiency while sending messages up the Tree"
   ]
  },
  {
   "cell_type": "code",
   "execution_count": 139,
   "metadata": {
    "collapsed": true
   },
   "outputs": [],
   "source": [
    "def get_parent(const_root, curr_node):\n",
    "    if (const_root is None):\n",
    "        return None\n",
    "    if (const_root == curr_node):\n",
    "        return const_root\n",
    "    if (const_root.left == curr_node or const_root.right == curr_node):\n",
    "        return const_root\n",
    "    parent_on_left = get_parent(const_root.left, curr_node) \n",
    "    return parent_on_left if parent_on_left != None else get_parent(const_root.right, curr_node)\n",
    "\n",
    "def setup_parents(const_root=root, curr_node=root):\n",
    "    if (curr_node != None):\n",
    "        curr_node.parent = get_parent(const_root=const_root, curr_node=curr_node)\n",
    "        setup_parents(const_root=root, curr_node=curr_node.left)\n",
    "        setup_parents(const_root=root, curr_node=curr_node.right)"
   ]
  },
  {
   "cell_type": "markdown",
   "metadata": {},
   "source": [
    "#### Send Updates in Both Directions"
   ]
  },
  {
   "cell_type": "code",
   "execution_count": 140,
   "metadata": {
    "collapsed": true
   },
   "outputs": [],
   "source": [
    "def send_update_down(src_machine, target_machine, update):\n",
    "    if (src_machine is None):\n",
    "        print (\"Trying to route through other subtree or Failed\")\n",
    "        return False\n",
    "    elif (src_machine == target_machine):\n",
    "        print (target_machine.addr + \" received \" + update)\n",
    "        return True\n",
    "    else:\n",
    "        sent_through_left = send_update_down(src_machine.left, target_machine, update)\n",
    "        return sent_through_left if sent_through_left != False else send_update_down(src_machine.right, target_machine, update)\n",
    "\n",
    "def send_update_up(src_machine, target_machine, update):\n",
    "    while (src_machine != None and src_machine != target_machine):\n",
    "        src_machine = src_machine.parent\n",
    "    if (src_machine is None):\n",
    "        print (\"Cannot Send Update\")\n",
    "    else:\n",
    "        print (target_machine.addr + \" received \" + update)"
   ]
  },
  {
   "cell_type": "code",
   "execution_count": 141,
   "metadata": {
    "collapsed": true
   },
   "outputs": [],
   "source": [
    "nodes = ['1', '2', '3', '4', '5', '6', '7']\n",
    "root = build_tree(nodes)\n",
    "setup_parents(curr_node=root)"
   ]
  }
 ],
 "metadata": {
  "kernelspec": {
   "display_name": "Python 2",
   "language": "python",
   "name": "python2"
  },
  "language_info": {
   "codemirror_mode": {
    "name": "ipython",
    "version": 2
   },
   "file_extension": ".py",
   "mimetype": "text/x-python",
   "name": "python",
   "nbconvert_exporter": "python",
   "pygments_lexer": "ipython2",
   "version": "2.7.7"
  }
 },
 "nbformat": 4,
 "nbformat_minor": 0
}
